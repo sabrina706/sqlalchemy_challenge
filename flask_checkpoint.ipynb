{
 "cells": [
  {
   "cell_type": "code",
   "execution_count": 1,
   "id": "03ef7f73-67fa-4ff9-80fc-0ca71ff95cca",
   "metadata": {},
   "outputs": [],
   "source": [
    "# Import necessary libraries\n",
    "from flask import Flask, jsonify\n",
    "import pandas as pd\n",
    "import sqlite3"
   ]
  },
  {
   "cell_type": "code",
   "execution_count": 2,
   "id": "79e55386-c677-4192-a80c-0db9125c83fa",
   "metadata": {},
   "outputs": [],
   "source": [
    "# Set up Flask app\n",
    "app = Flask(__name__)"
   ]
  },
  {
   "cell_type": "code",
   "execution_count": 5,
   "id": "216c1ca5-d654-40c4-ae49-1e5c4f716ff0",
   "metadata": {},
   "outputs": [],
   "source": [
    "# Database path\n",
    "sqlite_file = './Resources/hawaii.sqlite'"
   ]
  },
  {
   "cell_type": "code",
   "execution_count": 7,
   "id": "7320550e-3190-40ba-91f7-8b4230c659ff",
   "metadata": {},
   "outputs": [
    {
     "ename": "OperationalError",
     "evalue": "unable to open database file",
     "output_type": "error",
     "traceback": [
      "\u001b[1;31m---------------------------------------------------------------------------\u001b[0m",
      "\u001b[1;31mOperationalError\u001b[0m                          Traceback (most recent call last)",
      "Cell \u001b[1;32mIn[7], line 2\u001b[0m\n\u001b[0;32m      1\u001b[0m \u001b[38;5;66;03m# Connect to the database\u001b[39;00m\n\u001b[1;32m----> 2\u001b[0m conn \u001b[38;5;241m=\u001b[39m sqlite3\u001b[38;5;241m.\u001b[39mconnect(sqlite_file)\n\u001b[0;32m      3\u001b[0m cursor \u001b[38;5;241m=\u001b[39m conn\u001b[38;5;241m.\u001b[39mcursor()\n",
      "\u001b[1;31mOperationalError\u001b[0m: unable to open database file"
     ]
    }
   ],
   "source": [
    "# Connect to the database\n",
    "conn = sqlite3.connect(sqlite_file)\n",
    "cursor = conn.cursor()"
   ]
  },
  {
   "cell_type": "code",
   "execution_count": null,
   "id": "8e227903-c7a3-458c-8542-8f942e954678",
   "metadata": {},
   "outputs": [],
   "source": [
    "# Query all table names\n",
    "cursor.execute(\"SELECT name FROM sqlite_master WHERE type='table';\")\n",
    "tables = cursor.fetchall()\n",
    "\n",
    "print(\"Tables in the database:\", tables)"
   ]
  },
  {
   "cell_type": "code",
   "execution_count": 10,
   "id": "8fdd5dde-088a-43d3-94dc-3c7edfe27a37",
   "metadata": {},
   "outputs": [],
   "source": [
    "# Function to retrieve data from the database\n",
    "def get_data():\n",
    "    conn = sqlite3.connect(sqlite_file)\n",
    "\n",
    "    # Precipitation data: Last 12 months\n",
    "    latest_date_query = \"SELECT MAX(date) FROM measurement;\"\n",
    "    latest_date = pd.read_sql(latest_date_query, conn).iloc[0, 0]\n",
    "    one_year_ago = pd.to_datetime(latest_date) - pd.DateOffset(years=1)\n",
    "    one_year_ago_str = one_year_ago.strftime('%Y-%m-%d')\n",
    "\n",
    "    precipitation_query = f\"\"\"\n",
    "    SELECT date, prcp\n",
    "    FROM measurement\n",
    "    WHERE date >= '{one_year_ago_str}';\n",
    "    \"\"\"\n",
    "    precipitation_data = pd.read_sql(precipitation_query, conn)\n",
    "    precipitation_dict = precipitation_data.set_index(\"date\")[\"prcp\"].to_dict()\n",
    "\n",
    "    # Stations data\n",
    "    stations_query = \"SELECT station, name FROM station;\"\n",
    "    stations_data = pd.read_sql(stations_query, conn)\n",
    "    stations_list = stations_data.to_dict(orient=\"records\")\n",
    "\n",
    "    # Most active station\n",
    "    most_active_station_query = \"\"\"\n",
    "    SELECT station, COUNT(station) AS count\n",
    "    FROM measurement\n",
    "    GROUP BY station\n",
    "    ORDER BY count DESC\n",
    "    LIMIT 1;\n",
    "    \"\"\"\n",
    "    most_active_station = pd.read_sql(most_active_station_query, conn).iloc[0, 0]\n",
    "\n",
    "    # TOBS data: Last 12 months for the most active station\n",
    "    tobs_query = f\"\"\"\n",
    "    SELECT date, tobs\n",
    "    FROM measurement\n",
    "    WHERE station = '{most_active_station}' AND date >= '{one_year_ago_str}';\n",
    "    \"\"\"\n",
    "    tobs_data = pd.read_sql(tobs_query, conn)\n",
    "    tobs_list = tobs_data[\"tobs\"].tolist()\n",
    "\n",
    "    conn.close()\n",
    "\n",
    "    return precipitation_dict, stations_list, tobs_list, most_active_station"
   ]
  },
  {
   "cell_type": "code",
   "execution_count": 12,
   "id": "b11958e2-b738-4a61-88d7-0985689d945e",
   "metadata": {},
   "outputs": [
    {
     "ename": "OperationalError",
     "evalue": "unable to open database file",
     "output_type": "error",
     "traceback": [
      "\u001b[1;31m---------------------------------------------------------------------------\u001b[0m",
      "\u001b[1;31mOperationalError\u001b[0m                          Traceback (most recent call last)",
      "Cell \u001b[1;32mIn[12], line 2\u001b[0m\n\u001b[0;32m      1\u001b[0m \u001b[38;5;66;03m# Load the data for the Flask app\u001b[39;00m\n\u001b[1;32m----> 2\u001b[0m precipitation_dict, stations_list, tobs_list, most_active_station \u001b[38;5;241m=\u001b[39m get_data()\n",
      "Cell \u001b[1;32mIn[10], line 3\u001b[0m, in \u001b[0;36mget_data\u001b[1;34m()\u001b[0m\n\u001b[0;32m      2\u001b[0m \u001b[38;5;28;01mdef\u001b[39;00m \u001b[38;5;21mget_data\u001b[39m():\n\u001b[1;32m----> 3\u001b[0m     conn \u001b[38;5;241m=\u001b[39m sqlite3\u001b[38;5;241m.\u001b[39mconnect(sqlite_file)\n\u001b[0;32m      5\u001b[0m     \u001b[38;5;66;03m# Precipitation data: Last 12 months\u001b[39;00m\n\u001b[0;32m      6\u001b[0m     latest_date_query \u001b[38;5;241m=\u001b[39m \u001b[38;5;124m\"\u001b[39m\u001b[38;5;124mSELECT MAX(date) FROM measurement;\u001b[39m\u001b[38;5;124m\"\u001b[39m\n",
      "\u001b[1;31mOperationalError\u001b[0m: unable to open database file"
     ]
    }
   ],
   "source": [
    "# Load the data for the Flask app\n",
    "precipitation_dict, stations_list, tobs_list, most_active_station = get_data()"
   ]
  },
  {
   "cell_type": "code",
   "execution_count": 14,
   "id": "d05c8759-b5f6-4d6d-a04e-60ef9d0280a2",
   "metadata": {},
   "outputs": [],
   "source": [
    "# Flask Routes\n",
    "@app.route(\"/\")\n",
    "def home():\n",
    "    \"\"\"List all available routes.\"\"\"\n",
    "    return (\n",
    "        f\"Welcome to the Climate API!<br/>\"\n",
    "        f\"Available Routes:<br/>\"\n",
    "        f\"/api/v1.0/precipitation<br/>\"\n",
    "        f\"/api/v1.0/stations<br/>\"\n",
    "        f\"/api/v1.0/tobs<br/>\"\n",
    "        f\"/api/v1.0/&lt;start&gt;<br/>\"\n",
    "        f\"/api/v1.0/&lt;start&gt;/&lt;end&gt;\"\n",
    "    )\n",
    "\n",
    "@app.route(\"/api/v1.0/precipitation\")\n",
    "def precipitation():\n",
    "    \"\"\"Return JSON representation of precipitation data for the last 12 months.\"\"\"\n",
    "    return jsonify(precipitation_dict)\n",
    "\n",
    "@app.route(\"/api/v1.0/stations\")\n",
    "def stations():\n",
    "    \"\"\"Return JSON list of stations.\"\"\"\n",
    "    return jsonify(stations_list)\n",
    "\n",
    "@app.route(\"/api/v1.0/tobs\")\n",
    "def tobs():\n",
    "    \"\"\"Return JSON list of temperature observations for the most active station.\"\"\"\n",
    "    return jsonify(tobs_list)\n",
    "\n",
    "@app.route(\"/api/v1.0/<start>\")\n",
    "@app.route(\"/api/v1.0/<start>/<end>\")\n",
    "def temperature_summary(start, end=None):\n",
    "    \"\"\"Return JSON list of TMIN, TAVG, and TMAX for a given date range.\"\"\"\n",
    "    conn = sqlite3.connect(sqlite_file)\n",
    "\n",
    "    if end:\n",
    "        query = f\"\"\"\n",
    "        SELECT MIN(tobs) as TMIN, AVG(tobs) as TAVG, MAX(tobs) as TMAX\n",
    "        FROM measurement\n",
    "        WHERE date BETWEEN '{start}' AND '{end}';\n",
    "        \"\"\"\n",
    "    else:\n",
    "        query = f\"\"\"\n",
    "        SELECT MIN(tobs) as TMIN, AVG(tobs) as TAVG, MAX(tobs) as TMAX\n",
    "        FROM measurement\n",
    "        WHERE date >= '{start}';\n",
    "        \"\"\"\n",
    "    \n",
    "    result = pd.read_sql(query, conn)\n",
    "    conn.close()\n",
    "\n",
    "    summary = {\n",
    "        \"TMIN\": result[\"TMIN\"].iloc[0],\n",
    "        \"TAVG\": result[\"TAVG\"].iloc[0],\n",
    "        \"TMAX\": result[\"TMAX\"].iloc[0]\n",
    "    }\n",
    "    return jsonify(summary)"
   ]
  },
  {
   "cell_type": "code",
   "execution_count": 16,
   "id": "8edee456-0ab4-4b29-9ced-a859aef144ba",
   "metadata": {},
   "outputs": [],
   "source": [
    "# Run the Flask app in Jupyter\n",
    "from werkzeug.serving import run_simple\n",
    "import threading\n",
    "\n",
    "def run_app():\n",
    "    run_simple('localhost', 5000, app)"
   ]
  },
  {
   "cell_type": "code",
   "execution_count": 18,
   "id": "018efbc0-eb95-4af1-ab23-fa024d273bae",
   "metadata": {},
   "outputs": [
    {
     "name": "stderr",
     "output_type": "stream",
     "text": [
      "WARNING: This is a development server. Do not use it in a production deployment. Use a production WSGI server instead.\n",
      " * Running on http://localhost:5000\n",
      "Press CTRL+C to quit\n"
     ]
    }
   ],
   "source": [
    "# Run the app in a separate thread\n",
    "thread = threading.Thread(target=run_app)\n",
    "thread.start()"
   ]
  },
  {
   "cell_type": "code",
   "execution_count": null,
   "id": "b8e55daa-2f71-46d7-8a44-74b7ec5aa1cb",
   "metadata": {},
   "outputs": [],
   "source": []
  },
  {
   "cell_type": "code",
   "execution_count": null,
   "id": "ea8754dc-1bda-4fd6-9662-54b5c0cc5442",
   "metadata": {},
   "outputs": [],
   "source": []
  }
 ],
 "metadata": {
  "kernelspec": {
   "display_name": "Python 3 (ipykernel)",
   "language": "python",
   "name": "python3"
  },
  "language_info": {
   "codemirror_mode": {
    "name": "ipython",
    "version": 3
   },
   "file_extension": ".py",
   "mimetype": "text/x-python",
   "name": "python",
   "nbconvert_exporter": "python",
   "pygments_lexer": "ipython3",
   "version": "3.12.4"
  }
 },
 "nbformat": 4,
 "nbformat_minor": 5
}
